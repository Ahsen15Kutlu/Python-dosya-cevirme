{
  "nbformat": 4,
  "nbformat_minor": 0,
  "metadata": {
    "colab": {
      "provenance": []
    },
    "kernelspec": {
      "name": "python3",
      "display_name": "Python 3"
    },
    "language_info": {
      "name": "python"
    }
  },
  "cells": [
    {
      "cell_type": "code",
      "execution_count": null,
      "metadata": {
        "colab": {
          "base_uri": "https://localhost:8080/"
        },
        "id": "SeLQlg-bJbAx",
        "outputId": "824e5c73-b276-474d-c465-1394fa14906a"
      },
      "outputs": [
        {
          "output_type": "stream",
          "name": "stdout",
          "text": [
            "3.10.12 (main, Jul 29 2024, 16:56:48) [GCC 11.4.0]\n"
          ]
        }
      ],
      "source": [
        "import sys # import python programlama dilinde yazılıma kütüphane eklemeye yarayan bir kod blogudur.\n",
        "print(sys.version)"
      ]
    },
    {
      "cell_type": "code",
      "source": [
        "from google.colab import drive # google colab - drive bağlantısı\n",
        "\n",
        "drive.mount('/content/drive')"
      ],
      "metadata": {
        "colab": {
          "base_uri": "https://localhost:8080/"
        },
        "id": "IEQMGpjHJjyy",
        "outputId": "9ee896d6-ba7c-4cc9-9596-20d62faafdf4"
      },
      "execution_count": null,
      "outputs": [
        {
          "output_type": "stream",
          "name": "stdout",
          "text": [
            "Drive already mounted at /content/drive; to attempt to forcibly remount, call drive.mount(\"/content/drive\", force_remount=True).\n"
          ]
        }
      ]
    },
    {
      "cell_type": "code",
      "source": [
        "import os\n",
        "\n",
        "os.chdir('/content/drive/My Drive/VERIYAPILARI_ISTKA')\n",
        "\n",
        "!pwd # bize kodun çıktısını dosya yolu olarak veren kod blogudur."
      ],
      "metadata": {
        "colab": {
          "base_uri": "https://localhost:8080/"
        },
        "id": "1P6OCqQMJj1b",
        "outputId": "aa74f2f1-4751-4def-c63f-eb4c7e76fc6f"
      },
      "execution_count": null,
      "outputs": [
        {
          "output_type": "stream",
          "name": "stdout",
          "text": [
            "/content/drive/My Drive/VERIYAPILARI_ISTKA\n"
          ]
        }
      ]
    },
    {
      "cell_type": "code",
      "source": [
        "import pandas as pd\n",
        "VeriSetiYolu = '/content/drive/My Drive/VERIYAPILARI_ISTKA/veriseti'\n",
        "for file in os.listdir (VeriSetiYolu):\n",
        "\n",
        "  if file.endswith(('.xlsx', '.xls')):\n",
        "\n",
        "    df = pd.read_excel(os.path.join(VeriSetiYolu, file))\n",
        "\n",
        "    df.to_csv(os.path.join(VeriSetiYolu, file.rsplit('.', 1) [0] + '.csv'), index=False)\n",
        "# DataFrame'i CSV formatında kaydet\n",
        "    print(f\" {file} dosyası CSV formatına çevrildi.\")\n",
        "# Çevrim İşlemi Çıktısı\n",
        "# İşlem tamamlandığında kaç tane excel dosyası var ise o kadar *.csv formatına çevildiğinin\n",
        "#bilgisini almaktayız"
      ],
      "metadata": {
        "colab": {
          "base_uri": "https://localhost:8080/"
        },
        "id": "4U78AJSFJj4T",
        "outputId": "c6f81855-5cad-4ea4-894c-d5a9614318b9"
      },
      "execution_count": null,
      "outputs": [
        {
          "output_type": "stream",
          "name": "stdout",
          "text": [
            " atktan-geri-kazanm-miktarlar (1).xlsx dosyası CSV formatına çevrildi.\n"
          ]
        }
      ]
    },
    {
      "cell_type": "code",
      "source": [
        "from google.colab import drive\n",
        "drive.mount('/content/drive')\n"
      ],
      "metadata": {
        "colab": {
          "base_uri": "https://localhost:8080/"
        },
        "id": "nOk0wOCy1qqR",
        "outputId": "d83515a1-8e60-4b9d-ddc6-2d1315a12daa"
      },
      "execution_count": null,
      "outputs": [
        {
          "output_type": "stream",
          "name": "stdout",
          "text": [
            "Mounted at /content/drive\n"
          ]
        }
      ]
    },
    {
      "cell_type": "code",
      "source": [
        "import os\n",
        "import pandas as pd\n",
        "\n",
        "VeriSetiYolu = '/content/drive/My Drive/VERIYAPILARI_ISTKA/veriseti'\n",
        "\n",
        "# VeriSetiYolu içindeki .csv dosyalarını bul ve say\n",
        "csv_dosyalari = [dosya for dosya in os.listdir(VeriSetiYolu) if dosya.endswith('.csv')]\n",
        "\n",
        "# .csv dosya sayısını ekrana yazdır\n",
        "csv_dosya_sayisi = len(csv_dosyalari)\n",
        "print(\"VeriSetiYolu içerisinde \",csv_dosya_sayisi, \"tane .csv dosyası bulunmaktadır.\")\n",
        "\n",
        "# Mevcut *.csv uzantılı dosyaların isimlerini getiriyoruz.\n",
        "print(\"Bulunan CSV Dosyalarının İsimleri Aşağıdadır --> \")\n",
        "for dosya in csv_dosyalari:\n",
        "    print(dosya)"
      ],
      "metadata": {
        "id": "bXwX0uZd8E8L",
        "outputId": "92449e71-877e-44ba-fb6b-6c9a8c3ab479",
        "colab": {
          "base_uri": "https://localhost:8080/"
        }
      },
      "execution_count": 10,
      "outputs": [
        {
          "output_type": "stream",
          "name": "stdout",
          "text": [
            "VeriSetiYolu içerisinde  1 tane .csv dosyası bulunmaktadır.\n",
            "Bulunan CSV Dosyalarının İsimleri Aşağıdadır --> \n",
            "atktan-geri-kazanm-miktarlar (1).csv\n"
          ]
        }
      ]
    }
  ]
}